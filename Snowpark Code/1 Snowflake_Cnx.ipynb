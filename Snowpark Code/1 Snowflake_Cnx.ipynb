{
 "metadata": {
  "language_info": {
   "codemirror_mode": {
    "name": "ipython",
    "version": 3
   },
   "file_extension": ".py",
   "mimetype": "text/x-python",
   "name": "python",
   "nbconvert_exporter": "python",
   "pygments_lexer": "ipython3",
   "version": "3.8.8-final"
  },
  "orig_nbformat": 2,
  "kernelspec": {
   "name": "python3",
   "display_name": "Python 3.8.8 64-bit ('anaconda3': virtualenv)",
   "metadata": {
    "interpreter": {
     "hash": "d7693078bc174ea98d092f56336653269e513763fd16da7df48ec3727afdaa35"
    }
   }
  }
 },
 "nbformat": 4,
 "nbformat_minor": 2,
 "cells": [
  {
   "cell_type": "code",
   "execution_count": 1,
   "metadata": {},
   "outputs": [],
   "source": [
    "from snowflake.snowpark import Session\n",
    "import sys\n",
    "import logging\n",
    "\n"
   ]
  },
  {
   "cell_type": "code",
   "execution_count": 2,
   "metadata": {},
   "outputs": [],
   "source": [
    "# initiate logging at info level\n",
    "logging.basicConfig(stream=sys.stdout, level=logging.INFO, format='%(asctime)s - %(levelname)s - %(message)s', datefmt='%I:%M:%S')\n",
    "\n"
   ]
  },
  {
   "cell_type": "code",
   "execution_count": 3,
   "metadata": {},
   "outputs": [],
   "source": [
    "# snowpark session\n",
    "def get_snowpark_session() -> Session:\n",
    "    connection_parameters = {\n",
    "       \"ACCOUNT\":\"account\",\n",
    "        \"USER\":\"user\",\n",
    "        \"PASSWORD\":\"password\",\n",
    "        \"ROLE\":\"SYSADMIN\",\n",
    "        \"DATABASE\":\"SNOWFLAKE_SAMPLE_DATA\",\n",
    "        \"SCHEMA\":\"TPCH_SF1\",\n",
    "        \"WAREHOUSE\":\"SNOWPARK_ETL_WH\"\n",
    "    }\n",
    "    # creating snowflake session object\n",
    "    return Session.builder.configs(connection_parameters).create()"
   ]
  },
  {
   "cell_type": "code",
   "execution_count": 4,
   "metadata": {},
   "outputs": [
    {
     "output_type": "stream",
     "name": "stdout",
     "text": [
      "01:38:47 - INFO - Snowflake Connector for Python Version: 3.7.0, Python Version: 3.8.8, Platform: macOS-10.16-x86_64-i386-64bit\n",
      "01:38:47 - INFO - This connection is in OCSP Fail Open Mode. TLS Certificates would be checked for validity and revocation status. Any other Certificate Revocation related exceptions or OCSP Responder failures would be disregarded in favor of connectivity.\n",
      "01:38:47 - INFO - Snowpark Session information: \n",
      "\"version\" : 1.13.0,\n",
      "\"python.version\" : 3.8.8,\n",
      "\"python.connector.version\" : 3.7.0,\n",
      "\"python.connector.session.id\" : 1276855122579590,\n",
      "\"os.name\" : Darwin\n",
      "\n",
      "01:38:47 - INFO - query: [select current_role(), current_database(), current_schema(), current_warehouse()...]\n",
      "01:38:48 - INFO - query execution done\n",
      "01:38:48 - INFO - Number of results in first chunk: 0\n",
      "01:38:48 - INFO - query: [SELECT  *  FROM (select current_role(), current_database(), current_schema(), cu...]\n",
      "01:38:48 - INFO - query execution done\n",
      "01:38:48 - INFO - Number of results in first chunk: 1\n",
      "-----------------------------------------------------------------------------------------\n",
      "|\"CURRENT_ROLE()\"  |\"CURRENT_DATABASE()\"   |\"CURRENT_SCHEMA()\"  |\"CURRENT_WAREHOUSE()\"  |\n",
      "-----------------------------------------------------------------------------------------\n",
      "|SYSADMIN          |SNOWFLAKE_SAMPLE_DATA  |TPCH_SF1            |SNOWPARK_ETL_WH        |\n",
      "-----------------------------------------------------------------------------------------\n",
      "\n",
      "01:38:48 - INFO - query: [select c_custkey,c_name,c_phone,c_mktsegment from snowflake_sample_data.tpch_sf1...]\n",
      "01:38:48 - INFO - query execution done\n",
      "01:38:48 - INFO - Number of results in first chunk: 0\n",
      "01:38:48 - INFO - query: [SELECT  *  FROM (select c_custkey,c_name,c_phone,c_mktsegment from snowflake_sam...]\n",
      "01:38:48 - INFO - query execution done\n",
      "01:38:48 - INFO - Number of results in first chunk: 5\n",
      "-----------------------------------------------------------------------\n",
      "|\"C_CUSTKEY\"  |\"C_NAME\"            |\"C_PHONE\"        |\"C_MKTSEGMENT\"  |\n",
      "-----------------------------------------------------------------------\n",
      "|30001        |Customer#000030001  |14-526-204-4500  |MACHINERY       |\n",
      "|30002        |Customer#000030002  |21-340-653-9800  |MACHINERY       |\n",
      "|30003        |Customer#000030003  |31-757-493-7525  |BUILDING        |\n",
      "|30004        |Customer#000030004  |33-870-136-4375  |AUTOMOBILE      |\n",
      "|30005        |Customer#000030005  |19-144-468-5416  |MACHINERY       |\n",
      "-----------------------------------------------------------------------\n",
      "\n"
     ]
    }
   ],
   "source": [
    "def main():\n",
    "    session = get_snowpark_session()\n",
    "\n",
    "    context_df = session.sql(\"select current_role(), current_database(), current_schema(), current_warehouse()\")\n",
    "    context_df.show(2)\n",
    "\n",
    "    customer_df = session.sql(\"select c_custkey,c_name,c_phone,c_mktsegment from snowflake_sample_data.tpch_sf1.customer limit 10\")\n",
    "    customer_df.show(5)\n",
    "\n",
    "if __name__ == '__main__':\n",
    "    main()  \n",
    "\n",
    "\n"
   ]
  },
  {
   "cell_type": "code",
   "execution_count": null,
   "metadata": {},
   "outputs": [],
   "source": []
  }
 ]
}