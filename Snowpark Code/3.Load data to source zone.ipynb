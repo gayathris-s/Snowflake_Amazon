{
 "metadata": {
  "language_info": {
   "codemirror_mode": {
    "name": "ipython",
    "version": 3
   },
   "file_extension": ".py",
   "mimetype": "text/x-python",
   "name": "python",
   "nbconvert_exporter": "python",
   "pygments_lexer": "ipython3",
   "version": "3.8.8-final"
  },
  "orig_nbformat": 2,
  "kernelspec": {
   "name": "python3",
   "display_name": "Python 3.8.8 64-bit ('base': conda)",
   "metadata": {
    "interpreter": {
     "hash": "d7693078bc174ea98d092f56336653269e513763fd16da7df48ec3727afdaa35"
    }
   }
  }
 },
 "nbformat": 4,
 "nbformat_minor": 2,
 "cells": [
  {
   "cell_type": "code",
   "execution_count": 1,
   "metadata": {},
   "outputs": [],
   "source": [
    "import sys\n",
    "import logging\n",
    "\n",
    "from snowflake.snowpark import Session, DataFrame\n",
    "from snowflake.snowpark.types import StructType, StringType, StructField, StringType,LongType,DecimalType,DateType,TimestampType\n",
    "from snowflake.snowpark.functions import col,lit,row_number, rank\n",
    "from snowflake.snowpark import Window"
   ]
  },
  {
   "cell_type": "code",
   "execution_count": 2,
   "metadata": {},
   "outputs": [],
   "source": [
    "# initiate logging at info level\n",
    "logging.basicConfig(stream=sys.stdout, level=logging.INFO, format='%(asctime)s - %(levelname)s - %(message)s', datefmt='%I:%M:%S')"
   ]
  },
  {
   "cell_type": "code",
   "execution_count": 3,
   "metadata": {},
   "outputs": [],
   "source": [
    "# snowpark session\n",
    "def get_snowpark_session() -> Session:\n",
    "    connection_parameters = {\n",
    "       \"ACCOUNT\":\"account\",\n",
    "        \"USER\":\"user\",\n",
    "        \"PASSWORD\":\"password\",\n",
    "        \"ROLE\":\"SYSADMIN\",\n",
    "        \"DATABASE\":\"SALES_DWH\",\n",
    "        \"SCHEMA\":\"SOURCE\",\n",
    "        \"WAREHOUSE\":\"SNOWPARK_ETL_WH\"\n",
    "    }\n",
    "    # creating snowflake session object\n",
    "    return Session.builder.configs(connection_parameters).create()\n",
    "\n",
    "   "
   ]
  },
  {
   "cell_type": "code",
   "execution_count": 4,
   "metadata": {},
   "outputs": [
    {
     "output_type": "stream",
     "name": "stdout",
     "text": [
      "05:01:28 - INFO - Snowflake Connector for Python Version: 3.7.0, Python Version: 3.8.8, Platform: macOS-10.16-x86_64-i386-64bit\n",
      "05:01:28 - INFO - This connection is in OCSP Fail Open Mode. TLS Certificates would be checked for validity and revocation status. Any other Certificate Revocation related exceptions or OCSP Responder failures would be disregarded in favor of connectivity.\n",
      "05:01:28 - INFO - Snowpark Session information: \n",
      "\"version\" : 1.13.0,\n",
      "\"python.version\" : 3.8.8,\n",
      "\"python.connector.version\" : 3.7.0,\n",
      "\"python.connector.session.id\" : 1276855122583914,\n",
      "\"os.name\" : Darwin\n",
      "\n",
      "05:01:28 - INFO - query: [select current_role(), current_database(), current_schema(), current_warehouse()...]\n",
      "05:01:28 - INFO - query execution done\n",
      "05:01:28 - INFO - Number of results in first chunk: 0\n",
      "05:01:28 - INFO - query: [SELECT  *  FROM (select current_role(), current_database(), current_schema(), cu...]\n",
      "05:01:28 - INFO - query execution done\n",
      "05:01:28 - INFO - Number of results in first chunk: 1\n",
      "----------------------------------------------------------------------------------------\n",
      "|\"CURRENT_ROLE()\"  |\"CURRENT_DATABASE()\"  |\"CURRENT_SCHEMA()\"  |\"CURRENT_WAREHOUSE()\"  |\n",
      "----------------------------------------------------------------------------------------\n",
      "|SYSADMIN          |SALES_DWH             |SOURCE              |SNOWPARK_ETL_WH        |\n",
      "----------------------------------------------------------------------------------------\n",
      "\n"
     ]
    }
   ],
   "source": [
    "session = get_snowpark_session()\n",
    "\n",
    "context_df = session.sql(\"select current_role(), current_database(), current_schema(), current_warehouse()\")\n",
    "context_df.show(2)"
   ]
  },
  {
   "cell_type": "code",
   "execution_count": 7,
   "metadata": {},
   "outputs": [],
   "source": [
    "\n",
    "def ingest_in_sales(session)-> None:\n",
    "    session.sql(\" \\\n",
    "            copy into SALES_DWH.SOURCE.IN_SALES_ORDER from ( \\\n",
    "            select \\\n",
    "            IN_SALES_ORDER_SEQ.nextval, \\\n",
    "            t.$1::text as order_id, \\\n",
    "            t.$2::text as customer_name, \\\n",
    "            t.$3::text as mobile_key,\\\n",
    "            t.$4::number as order_quantity, \\\n",
    "            t.$5::number as unit_price, \\\n",
    "            t.$6::number as order_valaue,  \\\n",
    "            t.$7::text as promotion_code , \\\n",
    "            t.$8::number(10,2)  as final_order_amount,\\\n",
    "            t.$9::number(10,2) as tax_amount,\\\n",
    "            t.$10::date as order_dt,\\\n",
    "            t.$11::text as payment_status,\\\n",
    "            t.$12::text as shipping_status,\\\n",
    "            t.$13::text as payment_method,\\\n",
    "            t.$14::text as payment_provider,\\\n",
    "            t.$15::text as mobile,\\\n",
    "            t.$16::text as shipping_address,\\\n",
    "            metadata$filename as stg_file_name,\\\n",
    "            metadata$file_row_number as stg_row_numer,\\\n",
    "            metadata$file_last_modified as \\\"STG_LAST_MODIFIED\\\"\\\n",
    "            from \\\n",
    "            @SALES_DWH.SOURCE.my_internal_stg/sales/source=IN/format=csv/ \\\n",
    "            (                                                             \\\n",
    "                file_format => 'SALES_DWH.COMMON.MY_CSV_FORMAT'           \\\n",
    "            ) t  )  on_error = 'Continue'     \\\n",
    "            \"\n",
    "            ).collect()\n"
   ]
  },
  {
   "cell_type": "code",
   "execution_count": 8,
   "metadata": {},
   "outputs": [],
   "source": [
    "def ingest_fr_sales(session)-> None:\n",
    "    session.sql(' \\\n",
    "        copy into SALES_DWH.SOURCE.FR_SALES_ORDER                               \\\n",
    "        from                                                    \\\n",
    "        (                                                       \\\n",
    "            select                                              \\\n",
    "            sales_dwh.source.fr_sales_order_seq.nextval,         \\\n",
    "            $1:\"Order ID\"::text as orde_id,                   \\\n",
    "            $1:\"Customer Name\"::text as customer_name,          \\\n",
    "            $1:\"Mobile Model\"::text as mobile_key,              \\\n",
    "            to_number($1:\"Quantity\") as quantity,               \\\n",
    "            to_number($1:\"Price per Unit\") as unit_price,       \\\n",
    "            to_decimal($1:\"Total Price\") as total_price,        \\\n",
    "            $1:\"Promotion Code\"::text as promotion_code,        \\\n",
    "            $1:\"Order Amount\"::number(10,2) as order_amount,    \\\n",
    "            to_decimal($1:\"Tax\") as tax,                        \\\n",
    "            $1:\"Order Date\"::date as order_dt,                  \\\n",
    "            $1:\"Payment Status\"::text as payment_status,        \\\n",
    "            $1:\"Shipping Status\"::text as shipping_status,      \\\n",
    "            $1:\"Payment Method\"::text as payment_method,        \\\n",
    "            $1:\"Payment Provider\"::text as payment_provider,    \\\n",
    "            $1:\"Phone\"::text as phone,                          \\\n",
    "            $1:\"Delivery Address\"::text as shipping_address ,    \\\n",
    "            metadata$filename as stg_file_name,\\\n",
    "            metadata$file_row_number as stg_row_numer,\\\n",
    "            metadata$file_last_modified as \\\"STG_LAST_MODIFIED\\\" \\\n",
    "            from                                                \\\n",
    "            @SALES_DWH.SOURCE.my_internal_stg/sales/source=FR/format=json/\\\n",
    "            (file_format => SALES_DWH.COMMON.MY_JSON_FORMAT)\\\n",
    "             ) on_error=continue\\\n",
    "        '\n",
    "        ).collect()"
   ]
  },
  {
   "cell_type": "code",
   "execution_count": 6,
   "metadata": {},
   "outputs": [],
   "source": [
    "def ingest_us_sales(session)-> None:\n",
    "    session.sql(' \\\n",
    "            copy into SALES_DWH.SOURCE.US_SALES_ORDER               \\\n",
    "            from                                    \\\n",
    "            (                                       \\\n",
    "                select                              \\\n",
    "                us_sales_order_seq.nextval, \\\n",
    "                $1:\"Order ID\"::text as orde_id,   \\\n",
    "                $1:\"Customer Name\"::text as customer_name,\\\n",
    "                $1:\"Mobile Model\"::text as mobile_key,\\\n",
    "                to_number($1:\"Quantity\") as quantity,\\\n",
    "                to_number($1:\"Price per Unit\") as unit_price,\\\n",
    "                to_decimal($1:\"Total Price\") as total_price,\\\n",
    "                $1:\"Promotion Code\"::text as promotion_code,\\\n",
    "                $1:\"Order Amount\"::number(10,2) as order_amount,\\\n",
    "                to_decimal($1:\"Tax\") as tax,\\\n",
    "                $1:\"Order Date\"::date as order_dt,\\\n",
    "                $1:\"Payment Status\"::text as payment_status,\\\n",
    "                $1:\"Shipping Status\"::text as shipping_status,\\\n",
    "                $1:\"Payment Method\"::text as payment_method,\\\n",
    "                $1:\"Payment Provider\"::text as payment_provider,\\\n",
    "                $1:\"Phone\"::text as phone,\\\n",
    "                $1:\"Delivery Address\"::text as shipping_address,\\\n",
    "                metadata$filename as stg_file_name,\\\n",
    "                metadata$file_row_number as stg_row_numer,\\\n",
    "                metadata$file_last_modified as \\\"STG_LAST_MODIFIED\\\"\\\n",
    "                from                                \\\n",
    "                    @SALES_DWH.SOURCE.my_internal_stg/sales/source=US/format=parquet/\\\n",
    "                    (file_format => SALES_DWH.COMMON.MY_PARQUET_FORMAT)\\\n",
    "                    ) on_error = continue \\\n",
    "            '\n",
    "            ).collect()\n",
    "   "
   ]
  },
  {
   "cell_type": "code",
   "execution_count": 9,
   "metadata": {},
   "outputs": [
    {
     "output_type": "stream",
     "name": "stdout",
     "text": [
      "05:01:43 - INFO - Snowflake Connector for Python Version: 3.7.0, Python Version: 3.8.8, Platform: macOS-10.16-x86_64-i386-64bit\n",
      "05:01:43 - INFO - This connection is in OCSP Fail Open Mode. TLS Certificates would be checked for validity and revocation status. Any other Certificate Revocation related exceptions or OCSP Responder failures would be disregarded in favor of connectivity.\n",
      "05:01:44 - INFO - Snowpark Session information: \n",
      "\"version\" : 1.13.0,\n",
      "\"python.version\" : 3.8.8,\n",
      "\"python.connector.version\" : 3.7.0,\n",
      "\"python.connector.session.id\" : 1276855122551114,\n",
      "\"os.name\" : Darwin\n",
      "\n",
      "05:01:44 - INFO - query: [copy into SALES_DWH.SOURCE.IN_SALES_ORDER from (             select             ...]\n",
      "05:01:45 - INFO - query execution done\n",
      "05:01:45 - INFO - Number of results in first chunk: 1\n",
      "05:01:45 - INFO - query: [copy into SALES_DWH.SOURCE.US_SALES_ORDER                           from        ...]\n",
      "05:01:46 - INFO - query execution done\n",
      "05:01:46 - INFO - Number of results in first chunk: 1\n",
      "05:01:46 - INFO - query: [copy into SALES_DWH.SOURCE.FR_SALES_ORDER                                       ...]\n",
      "05:01:47 - INFO - query execution done\n",
      "05:01:47 - INFO - Number of results in first chunk: 1\n"
     ]
    }
   ],
   "source": [
    "def main():\n",
    "\n",
    "    #get the session object and get dataframe\n",
    "    session = get_snowpark_session()\n",
    "\n",
    "    #ingest in sales data\n",
    "    ingest_in_sales(session)\n",
    "\n",
    "    #ingest in sales data\n",
    "    ingest_us_sales(session) \n",
    "\n",
    "    #ingest in sales data\n",
    "    ingest_fr_sales(session)   \n",
    "\n",
    "if __name__ == '__main__':\n",
    "    main()"
   ]
  },
  {
   "cell_type": "code",
   "execution_count": null,
   "metadata": {},
   "outputs": [],
   "source": []
  }
 ]
}